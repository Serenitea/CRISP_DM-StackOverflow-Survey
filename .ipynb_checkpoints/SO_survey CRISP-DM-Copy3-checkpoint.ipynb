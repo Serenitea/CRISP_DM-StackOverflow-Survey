{
 "cells": [
  {
   "cell_type": "code",
   "execution_count": 150,
   "metadata": {},
   "outputs": [],
   "source": [
    "# import libraries here; add more as necessary\n",
    "import numpy as np\n",
    "import pandas as pd\n",
    "import matplotlib.pyplot as plt\n",
    "import seaborn as sns\n",
    "\n",
    "%matplotlib inline"
   ]
  },
  {
   "cell_type": "code",
   "execution_count": null,
   "metadata": {},
   "outputs": [],
   "source": [
    "# global printing options\n",
    "pd.options.display.max_columns = None\n",
    "pd.options.display.max_rows = 10"
   ]
  },
  {
   "cell_type": "markdown",
   "metadata": {},
   "source": [
    "Questions explored:\n",
    "1. Which are the current most commonly used programming languages?\n",
    "2. How has the prevalance of different programming languages changed throughout the past **five????** years?\n",
    "3. Which programming languages are the currently the most popular for specific types of developers?\n",
    "\n",
    "Poss questions:\n",
    "\n",
    "- mode of education + diff lang/frameworks/plats?\n",
    "- years of experience + diff lang/frameworks/plats?"
   ]
  },
  {
   "cell_type": "markdown",
   "metadata": {},
   "source": [
    "Challenges:\n",
    "\n",
    "As is often the case with the practicalities of real-life data, the Stack Overflow developer survey varies each year, presenting unique challenges to making cross-year comparisons. \n",
    "\n",
    "1. The same languages are classified differently from year-to-year. For instance, HTML and CSS are combined under one category in the 2019 survey, categorized separately in the 2018 survey, and nonexistent in 2017 and prior surveys.\n",
    "2. The question in 2017 covers \"technologies that you work with\", including languages, databases, platforms, and frameworks. The 2018 and 2019 surveys thankfully separated these different variables, but that still means more cleaning for the 2017 dataset!\n",
    "3. The addition of an \"Others\" category in 2019 that replaces the most obscure entries from earlier years. For consistency across years, I opted to combine the obscure languages from before 2019 into a single category \"Other(s)\". \n",
    "\n",
    "\n",
    "Problem variables:\n",
    "\n",
    "- HTML/CSS for 2019, 2018 has HTML and CSS separately.\n",
    "- Bash/Shell/PowerShell for 2019, 2018 has Bash/Shell\n",
    "- 2019 has an \"Other\" category"
   ]
  },
  {
   "cell_type": "markdown",
   "metadata": {},
   "source": [
    "End goal - create a line graph of prevalence of languages across different years\n",
    "\n",
    "- [ ] clean names of 2015 data\n",
    "- [ ] all years have \"Other(s)\" as a categoryh\n",
    "- [ ] delete HTML/CSS from 2018+19\n",
    "- [ ] delete non-language categories from 2017 and prior\n",
    "- [ ] uniform Shell/Powershell category\n",
    "- [ ] chart with languages and years\n"
   ]
  },
  {
   "cell_type": "markdown",
   "metadata": {},
   "source": [
    "\n",
    "2019: LanguageWorkedWith\n",
    "\n",
    "2018: LanguageWorkedWith\n",
    "\n",
    "2017: HaveWorkedLanguage\n",
    "\n",
    "2016: tech_do"
   ]
  },
  {
   "cell_type": "code",
   "execution_count": null,
   "metadata": {
    "scrolled": true
   },
   "outputs": [],
   "source": [
    "df2019 = pd.read_csv('./2019survey_results_public.csv', header = 0)"
   ]
  },
  {
   "cell_type": "code",
   "execution_count": null,
   "metadata": {},
   "outputs": [],
   "source": [
    "df2018 = pd.read_csv('./2018survey_results_public.csv', header = 0)"
   ]
  },
  {
   "cell_type": "code",
   "execution_count": null,
   "metadata": {},
   "outputs": [],
   "source": [
    "df2017 = pd.read_csv('./2017survey_results_public.csv', header = 0, skipinitialspace= True)\n"
   ]
  },
  {
   "cell_type": "code",
   "execution_count": null,
   "metadata": {},
   "outputs": [],
   "source": [
    "df2016 = pd.read_csv('./2016survey_results.csv', header = 0, skipinitialspace= True)"
   ]
  },
  {
   "cell_type": "code",
   "execution_count": null,
   "metadata": {},
   "outputs": [],
   "source": [
    "display(df2016.info())"
   ]
  },
  {
   "cell_type": "code",
   "execution_count": null,
   "metadata": {},
   "outputs": [],
   "source": [
    "df2015 = pd.read_csv('./2015survey_results.csv', header = 1, skipinitialspace= True)"
   ]
  },
  {
   "cell_type": "code",
   "execution_count": null,
   "metadata": {
    "scrolled": true
   },
   "outputs": [],
   "source": [
    "display(df2015.head())"
   ]
  },
  {
   "cell_type": "code",
   "execution_count": null,
   "metadata": {},
   "outputs": [],
   "source": [
    "n = 0\n",
    "for x in df2015.columns:\n",
    "    print(n, x, \"', \")\n",
    "    n = n+1"
   ]
  },
  {
   "cell_type": "code",
   "execution_count": null,
   "metadata": {
    "scrolled": true
   },
   "outputs": [],
   "source": [
    "df2015_mix = df2015.loc[:,'Current Lang & Tech: Android':'Current Lang & Tech: Write-In']\n",
    "#idea:\n",
    "#df2015.columns[df2015.columns == 'Current Lang & Tech%']"
   ]
  },
  {
   "cell_type": "code",
   "execution_count": null,
   "metadata": {
    "scrolled": true
   },
   "outputs": [],
   "source": [
    "df2015_mix"
   ]
  },
  {
   "cell_type": "code",
   "execution_count": null,
   "metadata": {},
   "outputs": [],
   "source": [
    "df2015_mix_count = df2015_mix.count()"
   ]
  },
  {
   "cell_type": "code",
   "execution_count": null,
   "metadata": {},
   "outputs": [],
   "source": [
    "df2015_mix_count.index = df2015_mix_count.index.str.replace('Current Lang & Tech: ', '')"
   ]
  },
  {
   "cell_type": "code",
   "execution_count": null,
   "metadata": {
    "scrolled": true
   },
   "outputs": [],
   "source": [
    "df2015_mix_count"
   ]
  },
  {
   "cell_type": "code",
   "execution_count": null,
   "metadata": {},
   "outputs": [],
   "source": [
    "#df2015_mix_count = df2015_mix_count.rename('Count')\n",
    "#df2015_mix_count = df2015_mix_count.rename_axis('Lang').reset_index()"
   ]
  },
  {
   "cell_type": "code",
   "execution_count": null,
   "metadata": {},
   "outputs": [],
   "source": [
    "def elevate_series(series, series_name, index_name):\n",
    "    series = series.rename_axis(index_name)\n",
    "    series = series.rename(series_name)\n",
    "    df = series.reset_index()\n",
    "    return df"
   ]
  },
  {
   "cell_type": "code",
   "execution_count": null,
   "metadata": {},
   "outputs": [],
   "source": [
    "dfmix2015_counts = elevate_series(df2015_mix_count, 'Count 2015', 'Languages')"
   ]
  },
  {
   "cell_type": "code",
   "execution_count": null,
   "metadata": {},
   "outputs": [],
   "source": [
    "dfmix2015_counts"
   ]
  },
  {
   "cell_type": "code",
   "execution_count": null,
   "metadata": {},
   "outputs": [],
   "source": [
    "df2017_col_names = df2017.columns\n",
    "for x in df2017_col_names:\n",
    "    print(x)"
   ]
  },
  {
   "cell_type": "code",
   "execution_count": null,
   "metadata": {},
   "outputs": [],
   "source": [
    "df2018_col_names = df2018.columns\n",
    "for x in df2018_col_names:\n",
    "    print(x)"
   ]
  },
  {
   "cell_type": "code",
   "execution_count": null,
   "metadata": {
    "scrolled": true
   },
   "outputs": [],
   "source": [
    "print(df2019.shape)\n",
    "print(df2019.info())"
   ]
  },
  {
   "cell_type": "code",
   "execution_count": null,
   "metadata": {},
   "outputs": [],
   "source": [
    "def eval_complex_col(df, col):\n",
    "    col_num = df[df[col].isnull() == 0].shape[0]\n",
    "    col_df = df[col].value_counts().reset_index()\n",
    "    col_df.rename(columns={'index': col, col:'count'}, inplace = True)\n",
    "    col_series = pd.Series(col_df[col].unique()).dropna()\n",
    "    clean_list = col_series.str.split(pat = ';').tolist()\n",
    "    \n",
    "\n",
    "    flat_list = []\n",
    "    for sublist in clean_list:\n",
    "        for item in sublist:\n",
    "            flat_list.append(item)\n",
    "    clean_series = pd.DataFrame(flat_list)\n",
    "    clean_series[0] = clean_series[0].str.strip()\n",
    "\n",
    "    col_vals = clean_series[0].unique()\n",
    "    cat_count = clean_series[0].value_counts()\n",
    "    \n",
    "    \n",
    "    \n",
    "#    print('Unique Categories: ', col_vals)\n",
    "    return cat_count, col_vals\n",
    "\n"
   ]
  },
  {
   "cell_type": "code",
   "execution_count": null,
   "metadata": {
    "scrolled": true
   },
   "outputs": [],
   "source": [
    "mix16_counts, mix16_vals = eval_complex_col(df2016, 'tech_do')\n",
    "print(mix16_counts, mix16_vals)"
   ]
  },
  {
   "cell_type": "code",
   "execution_count": null,
   "metadata": {},
   "outputs": [],
   "source": [
    "dfmix2016_counts = elevate_series(mix16_counts, 'Count 2016', 'Languages')"
   ]
  },
  {
   "cell_type": "code",
   "execution_count": null,
   "metadata": {},
   "outputs": [],
   "source": [
    "dfmix2016_counts"
   ]
  },
  {
   "cell_type": "code",
   "execution_count": null,
   "metadata": {
    "scrolled": true
   },
   "outputs": [],
   "source": [
    "lang17_counts, lang17_vals = eval_complex_col(df2017, 'HaveWorkedLanguage')\n",
    "print(lang17_counts, lang17_vals)"
   ]
  },
  {
   "cell_type": "code",
   "execution_count": null,
   "metadata": {},
   "outputs": [],
   "source": [
    "dflang2017_counts = elevate_series(lang17_counts, 'Count 2017', 'Languages')"
   ]
  },
  {
   "cell_type": "code",
   "execution_count": 151,
   "metadata": {
    "scrolled": true
   },
   "outputs": [
    {
     "data": {
      "text/html": [
       "<div>\n",
       "<style scoped>\n",
       "    .dataframe tbody tr th:only-of-type {\n",
       "        vertical-align: middle;\n",
       "    }\n",
       "\n",
       "    .dataframe tbody tr th {\n",
       "        vertical-align: top;\n",
       "    }\n",
       "\n",
       "    .dataframe thead th {\n",
       "        text-align: right;\n",
       "    }\n",
       "</style>\n",
       "<table border=\"1\" class=\"dataframe\">\n",
       "  <thead>\n",
       "    <tr style=\"text-align: right;\">\n",
       "      <th></th>\n",
       "      <th>Languages</th>\n",
       "      <th>Count 2017</th>\n",
       "    </tr>\n",
       "  </thead>\n",
       "  <tbody>\n",
       "    <tr>\n",
       "      <td>0</td>\n",
       "      <td>JavaScript</td>\n",
       "      <td>5608</td>\n",
       "    </tr>\n",
       "    <tr>\n",
       "      <td>1</td>\n",
       "      <td>SQL</td>\n",
       "      <td>4859</td>\n",
       "    </tr>\n",
       "    <tr>\n",
       "      <td>2</td>\n",
       "      <td>Java</td>\n",
       "      <td>4451</td>\n",
       "    </tr>\n",
       "    <tr>\n",
       "      <td>3</td>\n",
       "      <td>Python</td>\n",
       "      <td>4163</td>\n",
       "    </tr>\n",
       "    <tr>\n",
       "      <td>4</td>\n",
       "      <td>C#</td>\n",
       "      <td>3427</td>\n",
       "    </tr>\n",
       "    <tr>\n",
       "      <td>...</td>\n",
       "      <td>...</td>\n",
       "      <td>...</td>\n",
       "    </tr>\n",
       "    <tr>\n",
       "      <td>30</td>\n",
       "      <td>Common Lisp</td>\n",
       "      <td>249</td>\n",
       "    </tr>\n",
       "    <tr>\n",
       "      <td>31</td>\n",
       "      <td>Smalltalk</td>\n",
       "      <td>191</td>\n",
       "    </tr>\n",
       "    <tr>\n",
       "      <td>32</td>\n",
       "      <td>Dart</td>\n",
       "      <td>133</td>\n",
       "    </tr>\n",
       "    <tr>\n",
       "      <td>33</td>\n",
       "      <td>Julia</td>\n",
       "      <td>113</td>\n",
       "    </tr>\n",
       "    <tr>\n",
       "      <td>34</td>\n",
       "      <td>Hack</td>\n",
       "      <td>94</td>\n",
       "    </tr>\n",
       "  </tbody>\n",
       "</table>\n",
       "<p>35 rows × 2 columns</p>\n",
       "</div>"
      ],
      "text/plain": [
       "      Languages  Count 2017\n",
       "0    JavaScript        5608\n",
       "1           SQL        4859\n",
       "2          Java        4451\n",
       "3        Python        4163\n",
       "4            C#        3427\n",
       "..          ...         ...\n",
       "30  Common Lisp         249\n",
       "31    Smalltalk         191\n",
       "32         Dart         133\n",
       "33        Julia         113\n",
       "34         Hack          94\n",
       "\n",
       "[35 rows x 2 columns]"
      ]
     },
     "execution_count": 151,
     "metadata": {},
     "output_type": "execute_result"
    }
   ],
   "source": [
    "dflang2017_counts"
   ]
  },
  {
   "cell_type": "code",
   "execution_count": 153,
   "metadata": {},
   "outputs": [
    {
     "name": "stdout",
     "output_type": "stream",
     "text": [
      "HTML          18862\n",
      "JavaScript    18786\n",
      "CSS           17391\n",
      "SQL           16151\n",
      "Java          15429\n",
      "              ...  \n",
      "Erlang          786\n",
      "Cobol           533\n",
      "Ocaml           421\n",
      "Julia           370\n",
      "Hack            209\n",
      "Name: 0, Length: 38, dtype: int64 ['C#' 'JavaScript' 'SQL' 'HTML' 'CSS' 'PHP' 'Java' 'TypeScript'\n",
      " 'Bash/Shell' 'Python' 'Objective-C' 'Swift' 'VB.NET' 'Kotlin' 'C++' 'C'\n",
      " 'Ruby' 'R' 'Delphi/Object Pascal' 'Groovy' 'CoffeeScript' 'VBA' 'Scala'\n",
      " 'Visual Basic 6' 'Go' 'Perl' 'Assembly' 'Clojure' 'Erlang' 'F#' 'Hack'\n",
      " 'Haskell' 'Julia' 'Lua' 'Matlab' 'Rust' 'Ocaml' 'Cobol']\n"
     ]
    }
   ],
   "source": [
    "lang18_counts, lang18_vals = eval_complex_col(df2018, 'LanguageWorkedWith')\n",
    "print(lang18_counts, lang18_vals)"
   ]
  },
  {
   "cell_type": "code",
   "execution_count": 154,
   "metadata": {},
   "outputs": [
    {
     "data": {
      "text/html": [
       "<div>\n",
       "<style scoped>\n",
       "    .dataframe tbody tr th:only-of-type {\n",
       "        vertical-align: middle;\n",
       "    }\n",
       "\n",
       "    .dataframe tbody tr th {\n",
       "        vertical-align: top;\n",
       "    }\n",
       "\n",
       "    .dataframe thead th {\n",
       "        text-align: right;\n",
       "    }\n",
       "</style>\n",
       "<table border=\"1\" class=\"dataframe\">\n",
       "  <thead>\n",
       "    <tr style=\"text-align: right;\">\n",
       "      <th></th>\n",
       "      <th>Languages</th>\n",
       "      <th>Count 2018</th>\n",
       "    </tr>\n",
       "  </thead>\n",
       "  <tbody>\n",
       "    <tr>\n",
       "      <td>0</td>\n",
       "      <td>HTML</td>\n",
       "      <td>18862</td>\n",
       "    </tr>\n",
       "    <tr>\n",
       "      <td>1</td>\n",
       "      <td>JavaScript</td>\n",
       "      <td>18786</td>\n",
       "    </tr>\n",
       "    <tr>\n",
       "      <td>2</td>\n",
       "      <td>CSS</td>\n",
       "      <td>17391</td>\n",
       "    </tr>\n",
       "    <tr>\n",
       "      <td>3</td>\n",
       "      <td>SQL</td>\n",
       "      <td>16151</td>\n",
       "    </tr>\n",
       "    <tr>\n",
       "      <td>4</td>\n",
       "      <td>Java</td>\n",
       "      <td>15429</td>\n",
       "    </tr>\n",
       "    <tr>\n",
       "      <td>...</td>\n",
       "      <td>...</td>\n",
       "      <td>...</td>\n",
       "    </tr>\n",
       "    <tr>\n",
       "      <td>33</td>\n",
       "      <td>Erlang</td>\n",
       "      <td>786</td>\n",
       "    </tr>\n",
       "    <tr>\n",
       "      <td>34</td>\n",
       "      <td>Cobol</td>\n",
       "      <td>533</td>\n",
       "    </tr>\n",
       "    <tr>\n",
       "      <td>35</td>\n",
       "      <td>Ocaml</td>\n",
       "      <td>421</td>\n",
       "    </tr>\n",
       "    <tr>\n",
       "      <td>36</td>\n",
       "      <td>Julia</td>\n",
       "      <td>370</td>\n",
       "    </tr>\n",
       "    <tr>\n",
       "      <td>37</td>\n",
       "      <td>Hack</td>\n",
       "      <td>209</td>\n",
       "    </tr>\n",
       "  </tbody>\n",
       "</table>\n",
       "<p>38 rows × 2 columns</p>\n",
       "</div>"
      ],
      "text/plain": [
       "     Languages  Count 2018\n",
       "0         HTML       18862\n",
       "1   JavaScript       18786\n",
       "2          CSS       17391\n",
       "3          SQL       16151\n",
       "4         Java       15429\n",
       "..         ...         ...\n",
       "33      Erlang         786\n",
       "34       Cobol         533\n",
       "35       Ocaml         421\n",
       "36       Julia         370\n",
       "37        Hack         209\n",
       "\n",
       "[38 rows x 2 columns]"
      ]
     },
     "execution_count": 154,
     "metadata": {},
     "output_type": "execute_result"
    }
   ],
   "source": [
    "dflang2018_counts = elevate_series(lang18_counts, 'Count 2018', 'Languages')\n",
    "dflang2018_counts"
   ]
  },
  {
   "cell_type": "code",
   "execution_count": 155,
   "metadata": {
    "scrolled": true
   },
   "outputs": [
    {
     "name": "stdout",
     "output_type": "stream",
     "text": [
      "JavaScript     13868\n",
      "HTML/CSS       12880\n",
      "SQL            11445\n",
      "Python         11151\n",
      "Java           10910\n",
      "               ...  \n",
      "Elixir          1007\n",
      "Clojure          947\n",
      "WebAssembly      881\n",
      "F#               728\n",
      "Erlang           693\n",
      "Name: 0, Length: 28, dtype: int64 ['HTML/CSS' 'JavaScript' 'PHP' 'SQL' 'C#' 'TypeScript' 'Java' 'Python'\n",
      " 'Bash/Shell/PowerShell' 'Kotlin' 'Objective-C' 'Swift' 'C++' 'Ruby'\n",
      " 'Other(s):' 'C' 'R' 'VBA' 'Assembly' 'Go' 'Scala' 'Clojure' 'Dart' 'F#'\n",
      " 'Elixir' 'Erlang' 'Rust' 'WebAssembly']\n"
     ]
    }
   ],
   "source": [
    "lang19_counts, lang19_vals = eval_complex_col(df2019, 'LanguageWorkedWith')\n",
    "print(lang19_counts, lang19_vals)"
   ]
  },
  {
   "cell_type": "code",
   "execution_count": 161,
   "metadata": {},
   "outputs": [
    {
     "data": {
      "text/plain": [
       "Index(['JavaScript', 'HTML/CSS', 'SQL', 'Python', 'Java',\n",
       "       'Bash/Shell/PowerShell', 'C++', 'C', 'C#', 'PHP', 'TypeScript', 'Go',\n",
       "       'Ruby', 'Assembly', 'Other(s):', 'Swift', 'Kotlin', 'Objective-C', 'R',\n",
       "       'Rust', 'VBA', 'Scala', 'Dart', 'Elixir', 'Clojure', 'WebAssembly',\n",
       "       'F#', 'Erlang'],\n",
       "      dtype='object')"
      ]
     },
     "execution_count": 161,
     "metadata": {},
     "output_type": "execute_result"
    }
   ],
   "source": [
    "lang19_counts.index"
   ]
  },
  {
   "cell_type": "code",
   "execution_count": 157,
   "metadata": {},
   "outputs": [
    {
     "data": {
      "text/html": [
       "<div>\n",
       "<style scoped>\n",
       "    .dataframe tbody tr th:only-of-type {\n",
       "        vertical-align: middle;\n",
       "    }\n",
       "\n",
       "    .dataframe tbody tr th {\n",
       "        vertical-align: top;\n",
       "    }\n",
       "\n",
       "    .dataframe thead th {\n",
       "        text-align: right;\n",
       "    }\n",
       "</style>\n",
       "<table border=\"1\" class=\"dataframe\">\n",
       "  <thead>\n",
       "    <tr style=\"text-align: right;\">\n",
       "      <th></th>\n",
       "      <th>Languages</th>\n",
       "      <th>Count 2019</th>\n",
       "    </tr>\n",
       "  </thead>\n",
       "  <tbody>\n",
       "    <tr>\n",
       "      <td>0</td>\n",
       "      <td>JavaScript</td>\n",
       "      <td>13868</td>\n",
       "    </tr>\n",
       "    <tr>\n",
       "      <td>1</td>\n",
       "      <td>HTML/CSS</td>\n",
       "      <td>12880</td>\n",
       "    </tr>\n",
       "    <tr>\n",
       "      <td>2</td>\n",
       "      <td>SQL</td>\n",
       "      <td>11445</td>\n",
       "    </tr>\n",
       "    <tr>\n",
       "      <td>3</td>\n",
       "      <td>Python</td>\n",
       "      <td>11151</td>\n",
       "    </tr>\n",
       "    <tr>\n",
       "      <td>4</td>\n",
       "      <td>Java</td>\n",
       "      <td>10910</td>\n",
       "    </tr>\n",
       "    <tr>\n",
       "      <td>...</td>\n",
       "      <td>...</td>\n",
       "      <td>...</td>\n",
       "    </tr>\n",
       "    <tr>\n",
       "      <td>23</td>\n",
       "      <td>Elixir</td>\n",
       "      <td>1007</td>\n",
       "    </tr>\n",
       "    <tr>\n",
       "      <td>24</td>\n",
       "      <td>Clojure</td>\n",
       "      <td>947</td>\n",
       "    </tr>\n",
       "    <tr>\n",
       "      <td>25</td>\n",
       "      <td>WebAssembly</td>\n",
       "      <td>881</td>\n",
       "    </tr>\n",
       "    <tr>\n",
       "      <td>26</td>\n",
       "      <td>F#</td>\n",
       "      <td>728</td>\n",
       "    </tr>\n",
       "    <tr>\n",
       "      <td>27</td>\n",
       "      <td>Erlang</td>\n",
       "      <td>693</td>\n",
       "    </tr>\n",
       "  </tbody>\n",
       "</table>\n",
       "<p>28 rows × 2 columns</p>\n",
       "</div>"
      ],
      "text/plain": [
       "      Languages  Count 2019\n",
       "0    JavaScript       13868\n",
       "1      HTML/CSS       12880\n",
       "2           SQL       11445\n",
       "3        Python       11151\n",
       "4          Java       10910\n",
       "..          ...         ...\n",
       "23       Elixir        1007\n",
       "24      Clojure         947\n",
       "25  WebAssembly         881\n",
       "26           F#         728\n",
       "27       Erlang         693\n",
       "\n",
       "[28 rows x 2 columns]"
      ]
     },
     "execution_count": 157,
     "metadata": {},
     "output_type": "execute_result"
    }
   ],
   "source": [
    "dflang2019_counts = elevate_series(lang19_counts, 'Count 2019', 'Languages')\n",
    "dflang2019_counts"
   ]
  },
  {
   "cell_type": "code",
   "execution_count": 160,
   "metadata": {},
   "outputs": [
    {
     "name": "stdout",
     "output_type": "stream",
     "text": [
      "43 42 35 38 28\n"
     ]
    }
   ],
   "source": [
    "print(dfmix2015_counts.shape[0], dfmix2016_counts.shape[0], dflang2017_counts.shape[0], dflang2018_counts.shape[0], dflang2019_counts.shape[0])"
   ]
  },
  {
   "cell_type": "code",
   "execution_count": null,
   "metadata": {},
   "outputs": [],
   "source": [
    "past5yr_test = pd.concat([lang19_counts, lang18_counts, lang17_counts], join = 'outer', keys=['19', '18', '17'], names = ['Languages'], axis = 1, sort = False)\n",
    "print(past5yr_test)"
   ]
  },
  {
   "cell_type": "code",
   "execution_count": null,
   "metadata": {},
   "outputs": [],
   "source": []
  },
  {
   "cell_type": "code",
   "execution_count": 172,
   "metadata": {},
   "outputs": [
    {
     "name": "stdout",
     "output_type": "stream",
     "text": [
      "        Languages  Count 2015   Languages  Count 2016   Languages  Count 2017  \\\n",
      "0         Android        4110  JavaScript     12815.0  JavaScript      5608.0   \n",
      "1         Arduino        1626         SQL     10483.0         SQL      4859.0   \n",
      "2       AngularJS        2913        Java      8570.0        Java      4451.0   \n",
      "3               C        3612         PHP      6814.0      Python      4163.0   \n",
      "4             C++        4529      Python      6734.0          C#      3427.0   \n",
      "..            ...         ...         ...         ...         ...         ...   \n",
      "38          Swift         759     Clojure       467.0         NaN         NaN   \n",
      "39   Visual Basic        1701        Rust       382.0         NaN         NaN   \n",
      "40  Windows Phone         570          F#       378.0         NaN         NaN   \n",
      "41      Wordpress        2007        Dart       179.0         NaN         NaN   \n",
      "42       Write-In        2148         NaN         NaN         NaN         NaN   \n",
      "\n",
      "     Languages  Count 2018   Languages  Count 2019  \n",
      "0         HTML     18862.0  JavaScript     13868.0  \n",
      "1   JavaScript     18786.0    HTML/CSS     12880.0  \n",
      "2          CSS     17391.0         SQL     11445.0  \n",
      "3          SQL     16151.0      Python     11151.0  \n",
      "4         Java     15429.0        Java     10910.0  \n",
      "..         ...         ...         ...         ...  \n",
      "38         NaN         NaN         NaN         NaN  \n",
      "39         NaN         NaN         NaN         NaN  \n",
      "40         NaN         NaN         NaN         NaN  \n",
      "41         NaN         NaN         NaN         NaN  \n",
      "42         NaN         NaN         NaN         NaN  \n",
      "\n",
      "[43 rows x 10 columns]\n"
     ]
    },
    {
     "data": {
      "text/plain": [
       "'\\nn = 0\\nfor x in past2yr:\\n    print(past2yr.index[n])\\n    n = n + 1\\n'"
      ]
     },
     "execution_count": 172,
     "metadata": {},
     "output_type": "execute_result"
    }
   ],
   "source": [
    "#old\n",
    "past2yr = pd.concat([lang19_counts, lang18_counts, lang17_counts], join = 'outer', keys=['19', '18', '17'], names = ['Languages'], axis = 1, sort = False)\n",
    "print(past2yr)\n",
    "'''\n",
    "n = 0\n",
    "for x in past2yr:\n",
    "    print(past2yr.index[n])\n",
    "    n = n + 1\n",
    "'''\n",
    "\n",
    "#no longer works now that we're combining df's, not series\n",
    "past5yr = pd.concat([dfmix2015_counts, dfmix2016_counts, dflang2017_counts, dflang2018_counts, dflang2019_counts], \n",
    "                    join = 'outer', \n",
    "                    #keys=['19', '18', '17'], \n",
    "                    #names = ['Languages'], \n",
    "                    axis = 1, \n",
    "                    sort = False)\n",
    "print(past5yr)\n",
    "'''\n",
    "n = 0\n",
    "for x in past2yr:\n",
    "    print(past2yr.index[n])\n",
    "    n = n + 1\n",
    "'''"
   ]
  },
  {
   "cell_type": "markdown",
   "metadata": {},
   "source": []
  },
  {
   "cell_type": "code",
   "execution_count": null,
   "metadata": {},
   "outputs": [],
   "source": [
    "    (cat_count/col_num*100).plot(kind = plot_type, figsize = (7,10))\n",
    "    plt.xlabel('Proportion (%)')\n",
    "    plt.ylabel(col)\n",
    "    plt.grid(True)\n",
    "    plt.show()"
   ]
  },
  {
   "cell_type": "code",
   "execution_count": null,
   "metadata": {},
   "outputs": [],
   "source": [
    "def compare_plt(column, n, df_low_miss, df_high_miss):\n",
    "    fig, axs = plt.subplots(n,2, figsize=(10, 5))\n",
    "    fig.subplots_adjust(hspace =2 , wspace=.2)\n",
    "    axs = axs.ravel()\n",
    "    for i in range(n):\n",
    "        plt.subplot(121)\n",
    "        sns.countplot(x = column, data = df_low_miss).set_title('Few missing')\n",
    "        plt.subplot(122)\n",
    "        sns.countplot(x = column, data = df_high_miss).set_title('High missing')"
   ]
  },
  {
   "cell_type": "code",
   "execution_count": null,
   "metadata": {},
   "outputs": [],
   "source": [
    "compare_plt('SOComm', 5, df2019_lowmiss, df2019_highmiss)"
   ]
  },
  {
   "cell_type": "code",
   "execution_count": null,
   "metadata": {},
   "outputs": [],
   "source": [
    "import warnings\n",
    "warnings.filterwarnings(\"ignore\")\n",
    "for col in low_miss_list:\n",
    "    compare_plt(col, 5, df2019_lowmiss, df2019_highmiss)"
   ]
  },
  {
   "cell_type": "markdown",
   "metadata": {},
   "source": [
    "# Questions\n",
    "is educational level related to salary?\n",
    "What are the biggest factors relating to salary?\n",
    "Languages related to salary?\n",
    "Type of developer related to salary?\n",
    "\n",
    "What languages, platforms, etc are people using?\n",
    "What languages are people likely to learn together?\n",
    "\n",
    "\n",
    "\n",
    "# Variables of interest:\n",
    "ConvertedComp - annual compensation\n",
    "WorkWeekHrs - hours/week worked\n",
    "LanguageWorkedWith\n",
    "DatabaseWorkedWith\n",
    "PlatformWorkedWith\n",
    "WebFrameWorkedWith\n",
    "MiscTechWorkedWith\n",
    "DevEnviron\n",
    "OpSys\n",
    "\n",
    "LastInt - \"In your most recent successful job interview (resulting in a job offer), you were asked to... (check all that apply)\"\n",
    "\n",
    "JobSat\n",
    "CareerSat\n",
    "YearsCodePro - How many years have you coded professionally (as a part of your work)?\n",
    "DevType\n",
    "OrgSize\n",
    "EduOther\n",
    "UndergradMajor\n",
    "EdLevel\n",
    "Country\n",
    "Age\n",
    "Gender\n",
    "Ethnicity\n"
   ]
  },
  {
   "cell_type": "code",
   "execution_count": null,
   "metadata": {
    "scrolled": true
   },
   "outputs": [],
   "source": [
    "for x in schema2019['QuestionText']:\n",
    "    print(x)"
   ]
  },
  {
   "cell_type": "markdown",
   "metadata": {},
   "source": [
    "Randomized respondent ID number (not in order of survey response time)\n",
    "Which of the following options best describes you today? Here, by \"developer\" we mean \"someone who writes code.\"\n",
    "Do you code as a hobby?\n",
    "How often do you contribute to open source?\n",
    "How do you feel about the quality of open source software (OSS)?\n",
    "\n",
    "\n",
    "Which of the following best describes your current employment status?\n",
    "In which country do you currently reside?\n",
    "\n",
    "\n",
    "Are you currently enrolled in a formal, degree-granting college or university program?\n",
    "Which of the following best describes the highest level of formal education that you’ve completed?\n",
    "\n",
    "\n",
    "What was your main or most important field of study?\n",
    "Which of the following types of non-degree education have you used or participated in? Please select all that apply.\n",
    "Approximately how many people are employed by the company or organization you work for?\n",
    "Which of the following describe you? Please select all that apply.\n",
    "Including any education, how many years have you been coding?\n",
    "\n",
    "At what age did you write your first line of code or program? (E.g., webpage, Hello World, Scratch project)\n",
    "How many years have you coded professionally (as a part of your work)?\n",
    "\n",
    "\n",
    "Overall, how satisfied are you with your career thus far?\n",
    "How satisfied are you with your current job? (If you work multiple jobs, answer for the one you spend the most hours on.)\n",
    "\n",
    "\n",
    "How confident are you that your manager knows what they’re doing?\n",
    "Do you believe that you need to be a manager to make more money?\n",
    "Do you want to become a manager yourself in the future?\n",
    "\n",
    "\n",
    "Which of the following best describes your current job-seeking status?\n",
    "When was the last time that you took a job with a new employer?\n",
    "In your most recent successful job interview (resulting in a job offer), you were asked to... (check all that apply)\n",
    "Have you ever been asked to solve FizzBuzz in an interview?\n",
    "Imagine that you are deciding between two job offers with the same compensation, benefits, and location. Of the following factors, which 3 are MOST important to you?\n",
    "Think back to the last time you updated your resumé, CV, or an online profile on a job site. What is the PRIMARY reason that you did so?\n",
    "\n",
    "\n",
    "Which currency do you use day-to-day? If your answer is complicated, please pick the one you're most comfortable estimating in.\n",
    "Which currency do you use day-to-day? If your answer is complicated, please pick the one you're most comfortable estimating in.\n",
    "\n",
    "What is your current total compensation (salary, bonuses, and perks, before taxes and deductions), in `CurrencySymbol`? Please enter a whole number in the box below, without any punctuation. If you are paid hourly, please estimate an equivalent weekly, monthly, or yearly salary. If you prefer not to answer, please leave the box empty.\n",
    "Is that compensation weekly, monthly, or yearly?\n",
    "\n",
    "Salary converted to annual USD salaries using the exchange rate on 2019-02-01, assuming 12 working months and 50 working weeks.\n",
    "\n",
    "\n",
    "On average, how many hours per week do you work?\n",
    "How structured or planned is your work?\n",
    "\n",
    "\n",
    "Of these options, what are your greatest challenges to productivity as a developer? Select up to 3:\n",
    "How often do you work remotely?\n",
    "Where would you prefer to work?\n",
    "For the specific work you do, and the years of experience you have, how do you rate your own level of competence?\n",
    "Do you review code as part of your work?\n",
    "On average, how many hours per week do you spend on code review?\n",
    "\n",
    "\n",
    "\n",
    "Does your company regularly employ unit tests in the development of their products?\n",
    "How does your company make decisions about purchasing new technology (cloud, AI, IoT, databases)?\n",
    "What level of influence do you, personally, have over new technology purchases at your organization?\n",
    "\n",
    "\n",
    "Which of the following programming, scripting, and markup languages have you done extensive development work in over the past year, and which do you want to work in over the next year?  (If you both worked with the language and want to continue to do so, please check both boxes in that row.)\n",
    "Which of the following programming, scripting, and markup languages have you done extensive development work in over the past year, and which do you want to work in over the next year?  (If you both worked with the language and want to continue to do so, please check both boxes in that row.)\n",
    "Which of the following database environments have you done extensive development work in over the past year, and which do you want to work in over the next year?   (If you both worked with the database and want to continue to do so, please check both boxes in that row.)\n",
    "Which of the following database environments have you done extensive development work in over the past year, and which do you want to work in over the next year?   (If you both worked with the database and want to continue to do so, please check both boxes in that row.)\n",
    "Which of the following platforms have you done extensive development work for over the past year?   (If you both developed for the platform and want to continue to do so, please check both boxes in that row.)\n",
    "Which of the following platforms have you done extensive development work for over the past year?   (If you both developed for the platform and want to continue to do so, please check both boxes in that row.)\n",
    "Which of the following web frameworks have you done extensive development work in over the past year, and which do you want to work in over the next year? (If you both worked with the framework and want to continue to do so, please check both boxes in that row.)\n",
    "Which of the following web frameworks have you done extensive development work in over the past year, and which do you want to work in over the next year? (If you both worked with the framework and want to continue to do so, please check both boxes in that row.)\n",
    "Which of the following other frameworks, libraries, and tools have you done extensive development work in over the past year, and which do you want to work in over the next year? (If you both worked with the technology and want to continue to do so, please check both boxes in that row.)\n",
    "Which of the following other frameworks, libraries, and tools have you done extensive development work in over the past year, and which do you want to work in over the next year? (If you both worked with the technology and want to continue to do so, please check both boxes in that row.)\n",
    "Which development environment(s) do you use regularly?  Please check all that apply.\n",
    "What is the primary operating system in which you work?\n",
    "\n",
    "\n",
    "How do you use containers (Docker, Open Container Initiative (OCI), etc.)?\n",
    "How is your organization thinking about or implementing blockchain technology?\n",
    "Blockchain / cryptocurrency technology is primarily:\n",
    "\n",
    "\n",
    "Do you think people born today will have a better life than their parents?\n",
    "Are you the \"IT support person\" for your family?\n",
    "\n",
    "\n",
    "Have you tried turning it off and on again?\n",
    "What social media site do you use the most?\n",
    "Do you prefer online chat or IRL conversations?\n",
    "What do you call it?\n",
    "\n",
    "\n",
    "To the best of your memory, when did you first visit Stack Overflow?\n",
    "How frequently would you say you visit Stack Overflow?\n",
    "I visit Stack Overflow to... (check all that apply)\n",
    "On average, how many times a week do you find (and use) an answer on Stack Overflow?\n",
    "Think back to the last time you solved a coding problem using Stack Overflow, as well as the last time you solved a problem using a different resource. Which was faster?\n",
    "About how much time did you save? If you're not sure, please use your best estimate.\n",
    "\n",
    "Do you have a Stack Overflow account?\n",
    "How frequently would you say you participate in Q&A on Stack Overflow? By participate we mean ask, answer, vote for, or comment on questions.\n",
    "Have you ever used or visited Stack Overflow Jobs?\n",
    "Have you ever used Stack Overflow for Enterprise or Stack Overflow for Teams?\n",
    "Do you consider yourself a member of the Stack Overflow community?\n",
    "Compared to last year, how welcome do you feel on Stack Overflow?\n",
    "Would you like to see any of the following on Stack Overflow? Check all that apply.\n",
    "\n",
    "\n",
    "What is your age (in years)? If you prefer not to answer, you may leave this question blank.\n",
    "Which of the following do you currently identify as? Please select all that apply. If you prefer not to answer, you may leave this question blank.\n",
    "Do you identify as transgender?\n",
    "Which of the following do you currently identify as? Please select all that apply. If you prefer not to answer, you may leave this question blank.\n",
    "Which of the following do you identify as? Please check all that apply. If you prefer not to answer, you may leave this question blank.\n",
    "Do you have any dependents (e.g., children, elders, or others) that you care for?\n"
   ]
  },
  {
   "cell_type": "code",
   "execution_count": null,
   "metadata": {},
   "outputs": [],
   "source": []
  }
 ],
 "metadata": {
  "kernelspec": {
   "display_name": "Python 3",
   "language": "python",
   "name": "python3"
  },
  "language_info": {
   "codemirror_mode": {
    "name": "ipython",
    "version": 3
   },
   "file_extension": ".py",
   "mimetype": "text/x-python",
   "name": "python",
   "nbconvert_exporter": "python",
   "pygments_lexer": "ipython3",
   "version": "3.7.4"
  }
 },
 "nbformat": 4,
 "nbformat_minor": 2
}
